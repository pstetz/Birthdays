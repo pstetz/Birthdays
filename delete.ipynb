{
 "cells": [
  {
   "cell_type": "code",
   "execution_count": 62,
   "metadata": {},
   "outputs": [
    {
     "data": {
      "text/html": [
       "<div>\n",
       "<style>\n",
       "    .dataframe thead tr:only-child th {\n",
       "        text-align: right;\n",
       "    }\n",
       "\n",
       "    .dataframe thead th {\n",
       "        text-align: left;\n",
       "    }\n",
       "\n",
       "    .dataframe tbody tr th {\n",
       "        vertical-align: top;\n",
       "    }\n",
       "</style>\n",
       "<table border=\"1\" class=\"dataframe\">\n",
       "  <thead>\n",
       "    <tr style=\"text-align: right;\">\n",
       "      <th></th>\n",
       "      <th>name</th>\n",
       "      <th>birthday</th>\n",
       "      <th>birthyear</th>\n",
       "    </tr>\n",
       "  </thead>\n",
       "  <tbody>\n",
       "    <tr>\n",
       "      <th>0</th>\n",
       "      <td>Patrick Stetz</td>\n",
       "      <td>20 July</td>\n",
       "      <td>1995.0</td>\n",
       "    </tr>\n",
       "    <tr>\n",
       "      <th>1</th>\n",
       "      <td>Emmett Stetz</td>\n",
       "      <td>4 May</td>\n",
       "      <td>1994.0</td>\n",
       "    </tr>\n",
       "    <tr>\n",
       "      <th>2</th>\n",
       "      <td>Nathaniel Solley</td>\n",
       "      <td>29 November</td>\n",
       "      <td>1994.0</td>\n",
       "    </tr>\n",
       "    <tr>\n",
       "      <th>3</th>\n",
       "      <td>Nicholas Saber</td>\n",
       "      <td>3 September</td>\n",
       "      <td>1993.0</td>\n",
       "    </tr>\n",
       "    <tr>\n",
       "      <th>4</th>\n",
       "      <td>Taylor Money</td>\n",
       "      <td>17 November</td>\n",
       "      <td>1994.0</td>\n",
       "    </tr>\n",
       "  </tbody>\n",
       "</table>\n",
       "</div>"
      ],
      "text/plain": [
       "               name     birthday  birthyear\n",
       "0     Patrick Stetz      20 July     1995.0\n",
       "1      Emmett Stetz        4 May     1994.0\n",
       "2  Nathaniel Solley  29 November     1994.0\n",
       "3    Nicholas Saber  3 September     1993.0\n",
       "4      Taylor Money  17 November     1994.0"
      ]
     },
     "execution_count": 62,
     "metadata": {},
     "output_type": "execute_result"
    }
   ],
   "source": [
    "import numpy as np\n",
    "import pandas as pd\n",
    "import time\n",
    "from datetime import datetime, timedelta\n",
    "\n",
    "import warnings\n",
    "warnings.filterwarnings('ignore')\n",
    "\n",
    "df = pd.read_csv(\"birthdays.csv\")\n",
    "df.head()"
   ]
  },
  {
   "cell_type": "code",
   "execution_count": 77,
   "metadata": {},
   "outputs": [
    {
     "name": "stdout",
     "output_type": "stream",
     "text": [
      "No birthdays today or tomorrow\n"
     ]
    }
   ],
   "source": [
    "def get_birthdays(df, day, year):\n",
    "    birthdays = df[df.birthday == day]\n",
    "    birthdays[\"ages\"] = year - birthdays.birthyear\n",
    "    return birthdays\n",
    "\n",
    "def format_notification(birthdays, message):\n",
    "    if len(birthdays) == 0:\n",
    "        message.append(\"None\")\n",
    "        return message\n",
    "    for person in birthdays.values:\n",
    "        name = person[0]\n",
    "        age  = person[3]\n",
    "        \n",
    "        message.append(name)\n",
    "        if not np.isnan(age):\n",
    "            message.append(f\" - {int(age)} yrs old\")\n",
    "        message.append(\"\\n\")\n",
    "    return message\n",
    "\n",
    "def get_notification(today, tomorrow, year):\n",
    "    ### Today\n",
    "    message = list(\"Today's Birthdays\\n\")\n",
    "    birthdays_today = get_birthdays(df, today, year)\n",
    "    message = format_notification(birthdays_today, message)\n",
    "    \n",
    "    ### Tomorrow\n",
    "    message.append(\"\\n\")\n",
    "    message.append(\"Tomorrow's birthdays\\n\")\n",
    "    birthdays_tomorrow = get_birthdays(df, tomorrow, year)\n",
    "    message = format_notification(birthdays_tomorrow, message)\n",
    "\n",
    "    if len(birthdays_today) + len(birthdays_tomorrow) != 0:\n",
    "        return \"\".join(message)\n",
    "    return \"No birthdays today or tomorrow\"\n",
    "\n",
    "def main():\n",
    "    today, year = time.strftime(\"%-d %B\"), int(time.strftime(\"%Y\"))\n",
    "    tomorrow = (datetime.strptime(today, \"%d %B\") + timedelta(days=1)).strftime(\"%-d %B\")\n",
    "    message  = get_notification(today, tomorrow, year)\n",
    "    print(message)\n",
    "\n",
    "main()"
   ]
  },
  {
   "cell_type": "code",
   "execution_count": null,
   "metadata": {
    "collapsed": true
   },
   "outputs": [],
   "source": []
  }
 ],
 "metadata": {
  "kernelspec": {
   "display_name": "Python 3",
   "language": "python",
   "name": "python3"
  },
  "language_info": {
   "codemirror_mode": {
    "name": "ipython",
    "version": 3
   },
   "file_extension": ".py",
   "mimetype": "text/x-python",
   "name": "python",
   "nbconvert_exporter": "python",
   "pygments_lexer": "ipython3",
   "version": "3.6.3"
  }
 },
 "nbformat": 4,
 "nbformat_minor": 2
}
